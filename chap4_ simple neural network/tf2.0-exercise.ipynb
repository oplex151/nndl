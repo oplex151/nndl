{
 "cells": [
  {
   "cell_type": "markdown",
   "metadata": {},
   "source": [
    "# Tensorflow2.0 小练习"
   ]
  },
  {
   "cell_type": "code",
   "execution_count": 32,
   "metadata": {},
   "outputs": [],
   "source": [
    "import torch\n",
    "import numpy as np\n",
    "import torch.nn.functional as F"
   ]
  },
  {
   "cell_type": "markdown",
   "metadata": {},
   "source": [
    "## 实现softmax函数"
   ]
  },
  {
   "cell_type": "code",
   "execution_count": 26,
   "metadata": {},
   "outputs": [
    {
     "data": {
      "text/plain": [
       "array([[ True,  True,  True,  True,  True],\n",
       "       [ True,  True,  True,  True,  True],\n",
       "       [ True,  True,  True,  True,  True],\n",
       "       [ True,  True,  True,  True,  True],\n",
       "       [ True,  True,  True,  True,  True],\n",
       "       [ True,  True,  True,  True,  True],\n",
       "       [ True,  True,  True,  True,  True],\n",
       "       [ True,  True,  True,  True,  True],\n",
       "       [ True,  True,  True,  True,  True],\n",
       "       [ True,  True,  True,  True,  True]])"
      ]
     },
     "execution_count": 26,
     "metadata": {},
     "output_type": "execute_result"
    }
   ],
   "source": [
    "def softmax(x):\n",
    "    ##########\n",
    "    '''实现softmax函数，只要求对最后一维归一化，\n",
    "    不允许用tf自带的softmax函数'''\n",
    "    ##########\n",
    "    # 步骤1: 对输入数组 x 的最后一个维度计算指数值\n",
    "    exp_x =  np.exp(x)\n",
    "    \n",
    "    # 步骤2: 计算在同一行(即最后一个维度)上指数值的总和\n",
    "    sum_exp_x = np.sum(exp_x, axis=-1, keepdims=True)\n",
    "    \n",
    "    # 步骤3: 将指数值除以对应行的指数值总和，得到归一化的概率\n",
    "    prob_x = exp_x / sum_exp_x\n",
    "    return prob_x\n",
    "\n",
    "test_data = np.random.normal(size=[10, 5])\n",
    "(softmax(test_data) - torch.softmax(torch.tensor(test_data), axis=-1).numpy())**2 <0.0001"
   ]
  },
  {
   "cell_type": "markdown",
   "metadata": {},
   "source": [
    "## 实现sigmoid函数"
   ]
  },
  {
   "cell_type": "code",
   "execution_count": 27,
   "metadata": {},
   "outputs": [
    {
     "data": {
      "text/plain": [
       "array([[ True,  True,  True,  True,  True],\n",
       "       [ True,  True,  True,  True,  True],\n",
       "       [ True,  True,  True,  True,  True],\n",
       "       [ True,  True,  True,  True,  True],\n",
       "       [ True,  True,  True,  True,  True],\n",
       "       [ True,  True,  True,  True,  True],\n",
       "       [ True,  True,  True,  True,  True],\n",
       "       [ True,  True,  True,  True,  True],\n",
       "       [ True,  True,  True,  True,  True],\n",
       "       [ True,  True,  True,  True,  True]])"
      ]
     },
     "execution_count": 27,
     "metadata": {},
     "output_type": "execute_result"
    }
   ],
   "source": [
    "def sigmoid(x):\n",
    "    ##########\n",
    "    '''实现sigmoid函数， 不允许用tf自带的sigmoid函数'''\n",
    "    ##########\n",
    "    prob_x = 1 / (1 + np.exp(-x))\n",
    "    return prob_x\n",
    "\n",
    "test_data = np.random.normal(size=[10, 5])\n",
    "(sigmoid(test_data) - torch.sigmoid(torch.tensor(test_data)).numpy())**2 < 0.0001"
   ]
  },
  {
   "cell_type": "markdown",
   "metadata": {},
   "source": [
    "## 实现 softmax 交叉熵loss函数"
   ]
  },
  {
   "cell_type": "code",
   "execution_count": null,
   "metadata": {},
   "outputs": [
    {
     "name": "stdout",
     "output_type": "stream",
     "text": [
      "2.0387167254743517 2.0387167254743517\n",
      "True\n"
     ]
    }
   ],
   "source": [
    "def softmax(x):\n",
    "    \"\"\"计算Softmax.\"\"\"\n",
    "    e_x = np.exp(x - np.max(x, axis=-1, keepdims=True))  # 减去最大值以防止溢出\n",
    "    return e_x / np.sum(e_x, axis=-1, keepdims=True)\n",
    "\n",
    "def softmax_ce(x, label):\n",
    "    '''实现 softmax 交叉熵loss函数， 不允许用tf自带的softmax_cross_entropy函数'''\n",
    "    \n",
    "    # 计算softmax输出\n",
    "    prob_x = softmax(x)\n",
    "    \n",
    "    # 确保label是one-hot编码或可以被当作索引使用\n",
    "    if len(label.shape) == 1:  # 如果标签是索引\n",
    "        batch_size = label.shape[0]\n",
    "        losses = -np.log(prob_x[np.arange(batch_size), label])\n",
    "    else:  # 如果标签是one-hot编码\n",
    "        losses = -np.sum(label * np.log(prob_x + 1e-20), axis=1)  # 加一个小常数防止log(0)\n",
    "    \n",
    "    # 平均损失\n",
    "    loss = np.mean(losses)\n",
    "    \n",
    "    return loss\n",
    "\n",
    "test_data = np.random.normal(size=[10, 5])\n",
    "label = np.zeros_like(test_data)\n",
    "label[np.arange(10), np.random.randint(0, 5, size=10)]=1.\n",
    "\n",
    "# 计算自定义softmax交叉熵损失\n",
    "custom_loss = softmax_ce(test_data, label)\n",
    "\n",
    "# 使用PyTorch计算交叉熵损失\n",
    "pytorch_loss = F.cross_entropy(torch.tensor(test_data), torch.tensor(label), reduction='mean')\n",
    "print(custom_loss, pytorch_loss.item())\n",
    "\n",
    "# 比较两者差值平方是否小于0.0001\n",
    "diff_square = (custom_loss - pytorch_loss.item()) ** 2 < 0.0001\n",
    "print(diff_square)"
   ]
  },
  {
   "cell_type": "markdown",
   "metadata": {},
   "source": [
    "## 实现 sigmoid 交叉熵loss函数"
   ]
  },
  {
   "cell_type": "code",
   "execution_count": 37,
   "metadata": {},
   "outputs": [
    {
     "name": "stdout",
     "output_type": "stream",
     "text": [
      "[0. 1. 0. 1. 1. 0. 0. 1. 0. 0.]\n",
      "True\n"
     ]
    }
   ],
   "source": [
    "def sigmoid_ce(x, label):\n",
    "    '''实现 sigmoid 交叉熵loss函数'''\n",
    "    # 确保输入是numpy数组\n",
    "    if not isinstance(x, np.ndarray):\n",
    "        x = np.array(x)\n",
    "    if not isinstance(label, np.ndarray):\n",
    "        label = np.array(label)\n",
    "\n",
    "    # 计算sigmoid值\n",
    "    sigmoid_x = sigmoid(x)\n",
    "    \n",
    "    # 防止log(0)，对sigmoid_x进行裁剪\n",
    "    epsilon = 1e-12\n",
    "    sigmoid_x = np.clip(sigmoid_x, epsilon, 1. - epsilon) # np.clip 函数的作用是将 sigmoid_x 中小于 epsilon 的值设为 epsilon，大于 1 - epsilon 的值设为 1 - epsilon\n",
    "    \n",
    "    # 计算交叉熵损失\n",
    "    loss = -np.mean(label * np.log(sigmoid_x) + (1 - label) * np.log(1 - sigmoid_x))\n",
    "    \n",
    "    return loss\n",
    "\n",
    "test_data = np.random.normal(size=[10])\n",
    "label = np.random.randint(0, 2, 10).astype(test_data.dtype)\n",
    "print (label)\n",
    "\n",
    "diff_square = ( F.binary_cross_entropy_with_logits(torch.tensor(test_data), torch.tensor(label), reduction='mean').item() \n",
    "               - sigmoid_ce(test_data, label))**2 < 0.0001\n",
    "print(diff_square)\n"
   ]
  },
  {
   "cell_type": "code",
   "execution_count": null,
   "metadata": {},
   "outputs": [],
   "source": []
  }
 ],
 "metadata": {
  "kernelspec": {
   "display_name": "Python 3",
   "language": "python",
   "name": "python3"
  },
  "language_info": {
   "codemirror_mode": {
    "name": "ipython",
    "version": 3
   },
   "file_extension": ".py",
   "mimetype": "text/x-python",
   "name": "python",
   "nbconvert_exporter": "python",
   "pygments_lexer": "ipython3",
   "version": "3.9.21"
  }
 },
 "nbformat": 4,
 "nbformat_minor": 2
}
