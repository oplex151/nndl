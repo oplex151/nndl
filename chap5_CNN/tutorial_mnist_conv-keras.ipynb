{
 "cells": [
  {
   "cell_type": "markdown",
   "metadata": {},
   "source": [
    "## 准备数据"
   ]
  },
  {
   "cell_type": "code",
   "execution_count": 11,
   "metadata": {},
   "outputs": [],
   "source": [
    "import os\n",
    "import tensorflow as tf\n",
    "from tensorflow import keras\n",
    "from tensorflow.keras import layers, optimizers, datasets\n",
    "from tensorflow.keras.layers import Dense, Dropout, Flatten\n",
    "from tensorflow.keras.layers import Conv2D, MaxPooling2D\n",
    "\n",
    "os.environ['TF_CPP_MIN_LOG_LEVEL'] = '2'  # or any {'0', '1', '2'}\n",
    "\n",
    "def mnist_dataset():\n",
    "    (x, y), (x_test, y_test) = datasets.mnist.load_data()\n",
    "    x = x.reshape(x.shape[0], 28, 28,1)\n",
    "    x_test = x_test.reshape(x_test.shape[0], 28, 28,1)\n",
    "    ds = tf.data.Dataset.from_tensor_slices((x, y))\n",
    "    ds = ds.map(prepare_mnist_features_and_labels)\n",
    "    ds = ds.take(20000).shuffle(20000).batch(100)\n",
    "    \n",
    "    test_ds = tf.data.Dataset.from_tensor_slices((x_test, y_test))\n",
    "    test_ds = test_ds.map(prepare_mnist_features_and_labels)\n",
    "    test_ds = test_ds.take(20000).shuffle(20000).batch(20000)\n",
    "    return ds, test_ds\n",
    "\n",
    "def prepare_mnist_features_and_labels(x, y):\n",
    "    x = tf.cast(x, tf.float32) / 255.0\n",
    "    y = tf.cast(y, tf.int64)\n",
    "    return x, y"
   ]
  },
  {
   "cell_type": "markdown",
   "metadata": {},
   "source": [
    "## 建立模型"
   ]
  },
  {
   "cell_type": "code",
   "execution_count": 12,
   "metadata": {},
   "outputs": [],
   "source": [
    "class myConvModel(keras.Model):\n",
    "    def __init__(self):\n",
    "        super(myConvModel, self).__init__()\n",
    "        self.l1_conv = Conv2D(32, (5, 5), activation='relu', padding='same')\n",
    "        self.l2_conv = Conv2D(64, (5, 5), activation='relu', padding='same')\n",
    "        self.pool = MaxPooling2D(pool_size=(2, 2), strides=2)\n",
    "        self.flat = Flatten()\n",
    "        self.dense1 = layers.Dense(100, activation='tanh')\n",
    "        self.dense2 = layers.Dense(10)\n",
    "    # @tf.function\n",
    "    def call(self, x):\n",
    "        h1 = self.l1_conv(x)\n",
    "        h1_pool = self.pool(h1)\n",
    "        h2 = self.l2_conv(h1_pool)\n",
    "        h2_pool = self.pool(h2)\n",
    "        flat_h = self.flat(h2_pool)\n",
    "        dense1 = self.dense1(flat_h)\n",
    "        logits = self.dense2(dense1)\n",
    "        probs = tf.nn.softmax(logits, axis=-1)\n",
    "        return probs\n",
    "\n",
    "model = myConvModel()\n",
    "optimizer = optimizers.Adam(0.0001)"
   ]
  },
  {
   "cell_type": "markdown",
   "metadata": {},
   "source": [
    "## 编译， fit以及evaluate"
   ]
  },
  {
   "cell_type": "code",
   "execution_count": 13,
   "metadata": {},
   "outputs": [
    {
     "name": "stdout",
     "output_type": "stream",
     "text": [
      "Epoch 1/5\n"
     ]
    },
    {
     "name": "stderr",
     "output_type": "stream",
     "text": [
      "e:\\miniconda\\envs\\nndl\\lib\\site-packages\\keras\\src\\backend\\tensorflow\\nn.py:708: UserWarning: \"`sparse_categorical_crossentropy` received `from_logits=True`, but the `output` argument was produced by a Softmax activation and thus does not represent logits. Was this intended?\n",
      "  output, from_logits = _get_logits(\n"
     ]
    },
    {
     "name": "stdout",
     "output_type": "stream",
     "text": [
      "\u001b[1m200/200\u001b[0m \u001b[32m━━━━━━━━━━━━━━━━━━━━\u001b[0m\u001b[37m\u001b[0m \u001b[1m5s\u001b[0m 18ms/step - accuracy: 0.5962 - loss: 1.5278\n",
      "Epoch 2/5\n",
      "\u001b[1m200/200\u001b[0m \u001b[32m━━━━━━━━━━━━━━━━━━━━\u001b[0m\u001b[37m\u001b[0m \u001b[1m4s\u001b[0m 18ms/step - accuracy: 0.9201 - loss: 0.3040\n",
      "Epoch 3/5\n",
      "\u001b[1m200/200\u001b[0m \u001b[32m━━━━━━━━━━━━━━━━━━━━\u001b[0m\u001b[37m\u001b[0m \u001b[1m4s\u001b[0m 17ms/step - accuracy: 0.9434 - loss: 0.1999\n",
      "Epoch 4/5\n",
      "\u001b[1m200/200\u001b[0m \u001b[32m━━━━━━━━━━━━━━━━━━━━\u001b[0m\u001b[37m\u001b[0m \u001b[1m4s\u001b[0m 18ms/step - accuracy: 0.9611 - loss: 0.1469\n",
      "Epoch 5/5\n",
      "\u001b[1m200/200\u001b[0m \u001b[32m━━━━━━━━━━━━━━━━━━━━\u001b[0m\u001b[37m\u001b[0m \u001b[1m4s\u001b[0m 17ms/step - accuracy: 0.9680 - loss: 0.1130\n",
      "\u001b[1m1/1\u001b[0m \u001b[32m━━━━━━━━━━━━━━━━━━━━\u001b[0m\u001b[37m\u001b[0m \u001b[1m1s\u001b[0m 755ms/step - accuracy: 0.9713 - loss: 0.0960\n"
     ]
    },
    {
     "data": {
      "text/plain": [
       "[0.09600120782852173, 0.9713000059127808]"
      ]
     },
     "execution_count": 13,
     "metadata": {},
     "output_type": "execute_result"
    }
   ],
   "source": [
    "model.compile(optimizer=optimizer,\n",
    "              # loss='sparse_categorical_crossentropy',\n",
    "              loss=tf.keras.losses.SparseCategoricalCrossentropy(from_logits=True),\n",
    "              metrics=['accuracy'])\n",
    "train_ds, test_ds = mnist_dataset()\n",
    "model.fit(train_ds, epochs=5)\n",
    "model.evaluate(test_ds)"
   ]
  }
 ],
 "metadata": {
  "kernelspec": {
   "display_name": "Python 3",
   "language": "python",
   "name": "python3"
  },
  "language_info": {
   "codemirror_mode": {
    "name": "ipython",
    "version": 3
   },
   "file_extension": ".py",
   "mimetype": "text/x-python",
   "name": "python",
   "nbconvert_exporter": "python",
   "pygments_lexer": "ipython3",
   "version": "3.9.21"
  }
 },
 "nbformat": 4,
 "nbformat_minor": 2
}
